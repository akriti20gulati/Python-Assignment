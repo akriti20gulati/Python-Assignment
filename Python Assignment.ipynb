{
 "cells": [
  {
   "cell_type": "code",
   "execution_count": null,
   "id": "6fc685b8",
   "metadata": {},
   "outputs": [],
   "source": [
    "Q1. When to Use a For Loop and a While Loop\n",
    "\n",
    "For Loop:\n",
    "- for loop is used when we know in advance how many times we want to iterate over a sequence.\n",
    "- Example: Iterating through a list of numbers.\n",
    "\n",
    "Example:\n",
    "\n",
    "for i in range(1, 6):\n",
    "    print(i)\n",
    "\n",
    "\n",
    "While Loop:\n",
    "- while loop is used when we want to iterate as long as a condition is true.\n",
    "- Example: Repeatedly asking a user for input until they provide a specific answer.\n",
    "\n",
    "Example:\n",
    "    \n",
    "user_input = \"\"\n",
    "while user_input.lower() != \"exit\":\n",
    "    user_input = input(\"Type 'exit' to stop: \")"
   ]
  },
  {
   "cell_type": "code",
   "execution_count": 2,
   "id": "aa7dcb57",
   "metadata": {},
   "outputs": [
    {
     "name": "stdout",
     "output_type": "stream",
     "text": [
      "Sum: 55\n",
      "Product: 3628800\n"
     ]
    }
   ],
   "source": [
    "# Q2. Sum and Product of the First 10 Natural Numbers\n",
    "\n",
    "sum1 = 0\n",
    "product1 = 1\n",
    "for i in range(1, 11):\n",
    "    sum1 += i\n",
    "    product1 *= i\n",
    "\n",
    "print(\"Sum:\", sum1)\n",
    "print(\"Product:\", product1)"
   ]
  },
  {
   "cell_type": "code",
   "execution_count": 6,
   "id": "f8da8dda",
   "metadata": {},
   "outputs": [
    {
     "name": "stdout",
     "output_type": "stream",
     "text": [
      "Enter units of electricity consumed in a month 310\n",
      "Total Electricity Bill: 2250.0\n"
     ]
    }
   ],
   "source": [
    "# Q3. Electricity Bill Calculation\n",
    "\n",
    "\n",
    "def calculate_electricity_bill(units):\n",
    "    if units <= 100:\n",
    "        bill = units * 4.5\n",
    "    elif units <= 200:\n",
    "        bill = (100 * 4.5) + (units - 100) * 6\n",
    "    elif units <= 300:\n",
    "        bill = (100 * 4.5) + (100 * 6) + (units - 200) * 10\n",
    "    else:\n",
    "        bill = (100 * 4.5) + (100 * 6) + (100 * 10) + (units - 300) * 20\n",
    "    return bill\n",
    "\n",
    "# Test case\n",
    "units_consumed = int(input(\"Enter units of electricity consumed in a month \"))\n",
    "print(\"Total Electricity Bill:\", calculate_electricity_bill(units_consumed))  \n",
    "\n"
   ]
  },
  {
   "cell_type": "code",
   "execution_count": 8,
   "id": "8f730e2b",
   "metadata": {},
   "outputs": [
    {
     "name": "stdout",
     "output_type": "stream",
     "text": [
      "List of numbers: [2, 4, 5, 6, 8, 10, 12, 14, 15, 16, 18, 20, 22, 24, 25, 26, 28, 30, 32, 34, 35, 36, 38, 40, 42, 44, 45, 46, 48, 50, 52, 54, 55, 56, 58, 60, 62, 64, 65, 66, 68, 70, 72, 74, 75, 76, 78, 80, 82, 84, 85, 86, 88, 90, 92, 94, 95, 96, 98, 100]\n"
     ]
    }
   ],
   "source": [
    "# Q4. Cube of Numbers Divisible by 4 or 5\n",
    "\n",
    "cubes_list_for = []\n",
    "for num in range(1, 101):\n",
    "    cube = num ** 3\n",
    "    if cube % 4 == 0 or cube % 5 == 0:\n",
    "        cubes_list_for.append(num)\n",
    "print(\"List of numbers:\", cubes_list_for)\n"
   ]
  },
  {
   "cell_type": "code",
   "execution_count": 10,
   "id": "0c07a1a4",
   "metadata": {},
   "outputs": [
    {
     "name": "stdout",
     "output_type": "stream",
     "text": [
      "Vowels in the string: ['I', 'a', 'o', 'e', 'o', 'e', 'a', 'a', 'a', 'i', 'e', 'i']\n",
      "Total number of vowels: 12\n"
     ]
    }
   ],
   "source": [
    "# Q5. Filter and Count Vowels\n",
    "\n",
    "string = \"I want to become a data scientist\"\n",
    "\n",
    "vowels = \"aeiouAEIOU\"\n",
    "\n",
    "# Filtering and counting vowels\n",
    "filtered_vowels = [char for char in string if char in vowels]\n",
    "vowel_count = len(filtered_vowels)\n",
    "\n",
    "print(\"Vowels in the string:\", filtered_vowels)\n",
    "print(\"Total number of vowels:\", vowel_count)"
   ]
  },
  {
   "cell_type": "code",
   "execution_count": null,
   "id": "2827617b",
   "metadata": {},
   "outputs": [],
   "source": []
  }
 ],
 "metadata": {
  "kernelspec": {
   "display_name": "Python 3 (ipykernel)",
   "language": "python",
   "name": "python3"
  },
  "language_info": {
   "codemirror_mode": {
    "name": "ipython",
    "version": 3
   },
   "file_extension": ".py",
   "mimetype": "text/x-python",
   "name": "python",
   "nbconvert_exporter": "python",
   "pygments_lexer": "ipython3",
   "version": "3.9.7"
  }
 },
 "nbformat": 4,
 "nbformat_minor": 5
}
